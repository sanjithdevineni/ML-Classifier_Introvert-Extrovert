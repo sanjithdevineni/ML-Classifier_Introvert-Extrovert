{
 "cells": [
  {
   "cell_type": "markdown",
   "id": "fa960446-c0b1-4573-83d7-9e4764808b0f",
   "metadata": {},
   "source": [
    "# Personality Classifier - Introvert/Extrovert"
   ]
  },
  {
   "cell_type": "markdown",
   "id": "44084825-9e74-4f91-89aa-4cf014678e67",
   "metadata": {},
   "source": [
    "## Abstract"
   ]
  },
  {
   "cell_type": "markdown",
   "id": "6e178bbc-7089-447e-8d9a-b93716de284f",
   "metadata": {},
   "source": [
    "## Data"
   ]
  },
  {
   "cell_type": "markdown",
   "id": "82c77d38-7f48-4f01-a167-f0b66c2e15d9",
   "metadata": {},
   "source": [
    "### Exploratory Data Analysis"
   ]
  },
  {
   "cell_type": "markdown",
   "id": "7eee2438-5fbc-4857-9aec-08b1cc7ff2c2",
   "metadata": {},
   "source": [
    "## Feature Engineering"
   ]
  },
  {
   "cell_type": "markdown",
   "id": "d9097356-bf70-4a17-85c1-272ccaf40aaf",
   "metadata": {},
   "source": [
    "## Model Training"
   ]
  },
  {
   "cell_type": "markdown",
   "id": "f74fdc09-f57f-4e57-90ad-0f42ac81ff46",
   "metadata": {},
   "source": [
    "## Analysis/Evaluation"
   ]
  },
  {
   "cell_type": "markdown",
   "id": "3dd7df7c-b6e2-4caa-b80a-85c14a66600a",
   "metadata": {},
   "source": [
    "## Discussion/Conclusion"
   ]
  },
  {
   "cell_type": "code",
   "execution_count": null,
   "id": "97edf30a-2a44-4fca-a684-573848a31db5",
   "metadata": {},
   "outputs": [],
   "source": []
  }
 ],
 "metadata": {
  "kernelspec": {
   "display_name": "Python 3 (ipykernel)",
   "language": "python",
   "name": "python3"
  },
  "language_info": {
   "codemirror_mode": {
    "name": "ipython",
    "version": 3
   },
   "file_extension": ".py",
   "mimetype": "text/x-python",
   "name": "python",
   "nbconvert_exporter": "python",
   "pygments_lexer": "ipython3",
   "version": "3.12.1"
  }
 },
 "nbformat": 4,
 "nbformat_minor": 5
}
